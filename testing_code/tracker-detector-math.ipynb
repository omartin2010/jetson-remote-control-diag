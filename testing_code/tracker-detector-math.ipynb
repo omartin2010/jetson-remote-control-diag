{
 "cells": [
  {
   "cell_type": "code",
   "execution_count": 161,
   "metadata": {},
   "outputs": [],
   "source": [
    "import uuid\n",
    "class classproperty(property):\n",
    "    def __get__(self, obj, objtype=None):\n",
    "        return super(classproperty, self).__get__(objtype)\n",
    "    def __set__(self, obj, value):\n",
    "        super(classproperty, self).__set__(type(obj), value)\n",
    "    def __delete__(self, obj):\n",
    "        super(classproperty, self).__delete__(type(obj))\n"
   ]
  },
  {
   "cell_type": "code",
   "execution_count": 131,
   "metadata": {},
   "outputs": [],
   "source": [
    "class TrackedObject(object):\n",
    "    _nb = 0\n",
    "    def __init__(self, rect: Rectangle):\n",
    "        self.rectangle = rect\n",
    "        self._nb += 1\n",
    "    def get_max_overlap_bb(self, list_bb):\n",
    "        areas = []\n",
    "        for bb in list_bb:\n",
    "            area = self.overlap_bb(bb)\n",
    "            areas.append(area)\n",
    "        if np.sum(areas) > 0:\n",
    "            result = np.argmax(np.array(areas))\n",
    "        else:\n",
    "            result = None\n",
    "        return result\n",
    "\n",
    "    @classproperty\n",
    "    def nb(cls):\n",
    "        return cls._nb\n",
    "\n",
    "    @nb.setter\n",
    "    def nb(cls, value):\n",
    "        self._nb = value\n",
    "    \n",
    "    def overlap_bb(self, bb) -> float:\n",
    "        overlap_x = max(0, min(self.rectangle.x_max, bb.x_max) - max(self.rectangle.x_min, bb.x_min))\n",
    "        overlap_y = max(0, min(self.rectangle.y_max, bb.y_max) - max(self.rectangle.y_min, bb.y_min))\n",
    "        overlap_area = max(0,float(overlap_x) * float(overlap_y))\n",
    "        return overlap_area"
   ]
  },
  {
   "cell_type": "code",
   "execution_count": 199,
   "metadata": {},
   "outputs": [],
   "source": [
    "import numpy as np\n",
    "class Rectangle(object):\n",
    "    _rect_list = []\n",
    "    \n",
    "    def __init__(self, x_min, y_min, x_max, y_max):\n",
    "        type(self)._rect_list.append(self)\n",
    "        self.id = uuid.uuid4()\n",
    "        self.x_min = x_min\n",
    "        self.x_max = x_max\n",
    "        self.y_min = y_min\n",
    "        self.y_max = y_max\n",
    "        print(f'created {self.id} ! => nb = {len(type(self).rect_list)}')\n",
    "\n",
    "    def delete_instance(self):   \n",
    "        try:\n",
    "            type(self)._rect_list.remove(self)\n",
    "            print(f'deleted {self.id} ! => nb = {len(type(self).rect_list)}')\n",
    "        except:\n",
    "            print('instance already deleted...')\n",
    "    \n",
    "    @classproperty\n",
    "    def rect_list(cls):\n",
    "        return cls._rect_list\n",
    "    "
   ]
  },
  {
   "cell_type": "code",
   "execution_count": 200,
   "metadata": {},
   "outputs": [
    {
     "name": "stdout",
     "output_type": "stream",
     "text": [
      "created 48d82b04-f104-4a04-9594-54d75eb54963 ! => nb = 1\n",
      "created 770271ae-97e1-4474-aa9f-aa3ec988d834 ! => nb = 2\n",
      "created 1f468324-5a41-48cf-be30-2511cb4d47ee ! => nb = 3\n"
     ]
    }
   ],
   "source": [
    "bb_rect_1 = Rectangle(10, 15, 52, 35)\n",
    "bb_rect_2 = Rectangle(12, 18, 40, 60)\n",
    "bb_rect_3 = Rectangle(20, 20, 100, 100)\n",
    "# bb_rect_4 = Rectangle(1,1,2,3)\n",
    "# bb_rect_5 = Rectangle(1,1,2,4)\n",
    "# bb_list = [bb_rect_4, bb_rect_5]"
   ]
  },
  {
   "cell_type": "code",
   "execution_count": 206,
   "metadata": {},
   "outputs": [
    {
     "name": "stdout",
     "output_type": "stream",
     "text": [
      "deleted 1f468324-5a41-48cf-be30-2511cb4d47ee ! => nb = 0\n"
     ]
    }
   ],
   "source": [
    "bb_rect_3.delete_instance()"
   ]
  },
  {
   "cell_type": "code",
   "execution_count": 207,
   "metadata": {},
   "outputs": [
    {
     "data": {
      "text/plain": [
       "[]"
      ]
     },
     "execution_count": 207,
     "metadata": {},
     "output_type": "execute_result"
    }
   ],
   "source": [
    "[rect.x_min for rect in Rectangle.rect_list]"
   ]
  },
  {
   "cell_type": "code",
   "execution_count": 13,
   "metadata": {},
   "outputs": [],
   "source": [
    "test = {x*3: None for x in range(5)}"
   ]
  },
  {
   "cell_type": "code",
   "execution_count": 19,
   "metadata": {},
   "outputs": [
    {
     "data": {
      "text/plain": [
       "[(1, 3), (2, 6), (4, 12)]"
      ]
     },
     "execution_count": 19,
     "metadata": {},
     "output_type": "execute_result"
    }
   ],
   "source": [
    "[(idx, k) for idx, (k, v) in enumerate(test.items()) if v is None]"
   ]
  }
 ],
 "metadata": {
  "kernelspec": {
   "display_name": "Python 3",
   "language": "python",
   "name": "python3"
  },
  "language_info": {
   "codemirror_mode": {
    "name": "ipython",
    "version": 3
   },
   "file_extension": ".py",
   "mimetype": "text/x-python",
   "name": "python",
   "nbconvert_exporter": "python",
   "pygments_lexer": "ipython3",
   "version": "3.7.5"
  }
 },
 "nbformat": 4,
 "nbformat_minor": 4
}

{
 "cells": [
  {
   "cell_type": "code",
   "execution_count": 46,
   "metadata": {},
   "outputs": [],
   "source": [
    "import numpy as np\n",
    "from numpy import cos, sin, degrees, radians\n",
    "import modern_robotics as mr"
   ]
  },
  {
   "cell_type": "markdown",
   "metadata": {},
   "source": [
    "## Calculate bList for manipulator"
   ]
  },
  {
   "cell_type": "code",
   "execution_count": 16,
   "metadata": {},
   "outputs": [],
   "source": [
    "blist = np.array([])\n",
    "\n",
    "joint1b = np.array([[0.0, 0.0, 0.0, 0.766, 0.000, -0.6428]])\n",
    "joint2b = np.array([[0.0, 0.0, 1.0, 0.0, 0.3904, 0.0]])\n",
    "joint3b = np.array([[0.0, 1.0, 0.0, 0.032, 0.000, -0.424]])\n",
    "joint4b = np.array([[0.0, 1.0, 0.0, 0.016, 0.000, -0.240]])\n",
    "\n"
   ]
  },
  {
   "cell_type": "code",
   "execution_count": 35,
   "metadata": {},
   "outputs": [],
   "source": [
    "blist = np.concatenate((joint1b, joint2b, joint3b, joint4b), axis=0).T"
   ]
  },
  {
   "cell_type": "markdown",
   "metadata": {},
   "source": [
    "## Manipulator at rest"
   ]
  },
  {
   "cell_type": "code",
   "execution_count": 18,
   "metadata": {},
   "outputs": [],
   "source": [
    "M0e = mr.RpToTrans(R=np.array([[0.766, 0, 0.6428], [0, 1, 0],[-0.6428, 0, 0.766]]).T,\n",
    "                    p= [0.3904, 0, 0.5371])"
   ]
  },
  {
   "cell_type": "code",
   "execution_count": 57,
   "metadata": {},
   "outputs": [
    {
     "data": {
      "text/plain": [
       "array([[ 0.766 ,  0.    , -0.6428,  0.3904],\n",
       "       [ 0.    ,  1.    ,  0.    ,  0.    ],\n",
       "       [ 0.6428,  0.    ,  0.766 ,  0.5371],\n",
       "       [ 0.    ,  0.    ,  0.    ,  1.    ]])"
      ]
     },
     "execution_count": 57,
     "metadata": {},
     "output_type": "execute_result"
    }
   ],
   "source": [
    "M0e"
   ]
  },
  {
   "cell_type": "code",
   "execution_count": 86,
   "metadata": {},
   "outputs": [],
   "source": [
    "Tbc = mr.RpToTrans(R=np.array([[1,0,0],[0,1,0],[0,0,1]]).T,\n",
    "                   p=[0.18, 0.0, 0.065])\n",
    "Tcb = mr.TransInv(Tbc)\n",
    "Pco = [0.20, 0.00, 0.05]\n",
    "angle = 45 * 2*np.pi / 360\n",
    "Toe_grip = mr.RpToTrans(R=np.array([[cos(angle), 0, sin(angle)], [0, 1, 0], [-sin(angle), 0, cos(angle)]]),\n",
    "                        p=[0, 0, 0])\n",
    "Rco = np.array([[cos(angle), 0, sin(angle)], [0, 1, 0], [-sin(angle), 0, cos(angle)]])  # mr.TransToRp(Toe_grip)\n",
    "Tco_desired = mr.RpToTrans(R=Rco, p=Pco)"
   ]
  },
  {
   "cell_type": "code",
   "execution_count": 87,
   "metadata": {},
   "outputs": [
    {
     "data": {
      "text/plain": [
       "array([[ 0.7071,  0.    ,  0.7071,  0.2   ],\n",
       "       [ 0.    ,  1.    ,  0.    ,  0.    ],\n",
       "       [-0.7071,  0.    ,  0.7071,  0.05  ],\n",
       "       [ 0.    ,  0.    ,  0.    ,  1.    ]])"
      ]
     },
     "execution_count": 87,
     "metadata": {},
     "output_type": "execute_result"
    }
   ],
   "source": [
    "Tco_desired.round(4)"
   ]
  },
  {
   "cell_type": "code",
   "execution_count": 88,
   "metadata": {},
   "outputs": [],
   "source": [
    "Tbo_desired = Tbc @ Tco_desired"
   ]
  },
  {
   "cell_type": "code",
   "execution_count": 89,
   "metadata": {},
   "outputs": [],
   "source": [
    "Tbo_desired = Tbo_desired.round(decimals=5)"
   ]
  },
  {
   "cell_type": "code",
   "execution_count": 90,
   "metadata": {},
   "outputs": [],
   "source": [
    "# Initial guess\n",
    "thetalist0 = (0, 0, 0, 0)"
   ]
  },
  {
   "cell_type": "code",
   "execution_count": 91,
   "metadata": {},
   "outputs": [
    {
     "name": "stdout",
     "output_type": "stream",
     "text": [
      "True\n",
      "[-6.97831596e-02 -3.76474589e-17  6.03938963e-01  8.79628961e-01]\n",
      "34.60315365571535\n",
      "50.39902699728704\n",
      "Wall time: 14.4 ms\n"
     ]
    }
   ],
   "source": [
    "%%time\n",
    "thetalist, success = mr.IKinBody(Blist=blist,\n",
    "                                 M=M0e,\n",
    "                                 T=Tbo_desired,\n",
    "                                 thetalist0=thetalist0,\n",
    "                                 eomg=0.02,   # 0.08 rad = 5 deg uncerainty\n",
    "                                 ev=0.025)\n",
    "print(success)\n",
    "print(thetalist)\n",
    "print(degrees(thetalist[2]))\n",
    "print(degrees(thetalist[3]))"
   ]
  },
  {
   "cell_type": "code",
   "execution_count": 83,
   "metadata": {},
   "outputs": [
    {
     "data": {
      "text/plain": [
       "array([-0.0079,  0.    ,  0.7038,  1.5652])"
      ]
     },
     "execution_count": 83,
     "metadata": {},
     "output_type": "execute_result"
    }
   ],
   "source": [
    "thetalist.round(4)"
   ]
  },
  {
   "cell_type": "code",
   "execution_count": 43,
   "metadata": {},
   "outputs": [
    {
     "data": {
      "text/plain": [
       "True"
      ]
     },
     "execution_count": 43,
     "metadata": {},
     "output_type": "execute_result"
    }
   ],
   "source": [
    "success"
   ]
  },
  {
   "cell_type": "code",
   "execution_count": 39,
   "metadata": {},
   "outputs": [
    {
     "data": {
      "text/plain": [
       "array([ 1.40101480e-01,  2.43906762e-16,  1.03271000e+00, -1.90533657e+00])"
      ]
     },
     "execution_count": 39,
     "metadata": {},
     "output_type": "execute_result"
    }
   ],
   "source": [
    "thetalist"
   ]
  },
  {
   "cell_type": "code",
   "execution_count": null,
   "metadata": {},
   "outputs": [],
   "source": []
  }
 ],
 "metadata": {
  "kernelspec": {
   "display_name": "Python 3",
   "language": "python",
   "name": "python3"
  },
  "language_info": {
   "codemirror_mode": {
    "name": "ipython",
    "version": 3
   },
   "file_extension": ".py",
   "mimetype": "text/x-python",
   "name": "python",
   "nbconvert_exporter": "python",
   "pygments_lexer": "ipython3",
   "version": "3.7.5"
  }
 },
 "nbformat": 4,
 "nbformat_minor": 4
}

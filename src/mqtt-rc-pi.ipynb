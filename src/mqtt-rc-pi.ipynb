{
 "cells": [
  {
   "cell_type": "markdown",
   "metadata": {},
   "source": [
    "# Remote controling the Bot via MQTT in a notebook"
   ]
  },
  {
   "cell_type": "markdown",
   "metadata": {},
   "source": [
    "First imports to drive the bot. Don't forget to run the notebook from where a virtual environment with the mqtt client is installed."
   ]
  },
  {
   "cell_type": "markdown",
   "metadata": {},
   "source": [
    "## MQTT INIT"
   ]
  },
  {
   "cell_type": "code",
   "execution_count": 6,
   "metadata": {},
   "outputs": [
    {
     "output_type": "execute_result",
     "data": {
      "text/plain": "0"
     },
     "metadata": {},
     "execution_count": 6
    }
   ],
   "source": [
    "import paho.mqtt.client as mqtt\n",
    "import time\n",
    "import json\n",
    "import numpy\n",
    "from numpy import pi\n",
    "client = mqtt.Client(client_id=\"commander\", clean_session=True)   # , transport='websockets')\n",
    "client.connect(\"192.168.32.50\", 1883, keepalive=60)"
   ]
  },
  {
   "cell_type": "markdown",
   "metadata": {},
   "source": [
    "## BRICK PI\n",
    "#### CHANGE LOGGING LEVELS"
   ]
  },
  {
   "cell_type": "code",
   "execution_count": 8,
   "metadata": {},
   "outputs": [
    {
     "output_type": "stream",
     "name": "stdout",
     "text": "MSG rc/mess_id : 0/1\n"
    }
   ],
   "source": [
    "client = mqtt.Client(client_id=\"commander\", clean_session=True)   # , transport='websockets')\n",
    "client.connect(\"192.168.32.50\", 1883, keepalive=60)\n",
    "level = 30\n",
    "payload_dict = {\n",
    "    # 'ddr_odometry': level,\n",
    "    'arm_movetoangle': level\n",
    "}\n",
    "payload = json.dumps(payload_dict)\n",
    "msg = client.publish(topic='bot/pi/logger/multiple', payload=payload, qos=1)\n",
    "print(\"MSG rc/mess_id : {}/{}\".format(msg.rc, msg.mid)) "
   ]
  },
  {
   "cell_type": "code",
   "execution_count": 181,
   "metadata": {},
   "outputs": [
    {
     "name": "stdout",
     "output_type": "stream",
     "text": [
      "MSG rc/mess_id : 0/2\n"
     ]
    }
   ],
   "source": [
    "moveforwardpayload = {}\n",
    "moveforwardpayload[\"P\"] = [0.2, 0.00, -0.1]      # wrt camera...\n",
    "moveforwardpayload[\"velocity_factor\"] = 0.075\n",
    "moveforwardpayload[\"pid\"] = True\n",
    "moveforwardpayload[\"grip_angle\"] = 90 * 2 * pi / 360\n",
    "moveforwardpayload[\"control_method\"] = 'velocity'\n",
    "moveforwardpayload[\"dryrun\"] = False\n",
    "#moveforwardpayload[\"override\"] = True\n",
    "payload = json.dumps(moveforwardpayload)\n",
    "msg = client.publish(topic=\"bot/gripper/position\", payload=payload, qos=1)\n",
    "print(\"MSG rc/mess_id : {}/{}\".format(msg.rc, msg.mid))"
   ]
  },
  {
   "cell_type": "markdown",
   "metadata": {},
   "source": [
    "## TESTED ASYNC OK - Set ARM in theta positions (theta1 and theta2)"
   ]
  },
  {
   "cell_type": "code",
   "execution_count": 10,
   "metadata": {},
   "outputs": [
    {
     "output_type": "stream",
     "name": "stdout",
     "text": "MSG rc/mess_id : 0/3\n"
    }
   ],
   "source": [
    "jsonpayload = {}\n",
    "jsonpayload[\"theta1\"] = 0 * (2 * pi / 360)\n",
    "jsonpayload[\"theta2\"] = 0 * (2 * pi / 360)\n",
    "jsonpayload[\"dryrun\"] = False\n",
    "jsonpayload[\"velocity_factor\"] = 0.75\n",
    "payload = json.dumps(jsonpayload)\n",
    "msg = client.publish(topic=\"bot/arm/move/theta\", payload=payload, qos=1)\n",
    "print(\"MSG rc/mess_id : {}/{}\".format(msg.rc, msg.mid))"
   ]
  },
  {
   "cell_type": "code",
   "execution_count": 9,
   "metadata": {},
   "outputs": [
    {
     "output_type": "stream",
     "name": "stdout",
     "text": "MSG rc/mess_id : 0/2\n"
    }
   ],
   "source": [
    "jsonpayload = {}\n",
    "jsonpayload[\"theta1\"] = 40 * (2 * pi / 360)\n",
    "jsonpayload[\"theta2\"] = 94 * (2 * pi / 360)\n",
    "jsonpayload[\"dryrun\"] = False\n",
    "jsonpayload[\"velocity_factor\"] = 1\n",
    "payload = json.dumps(jsonpayload)\n",
    "msg = client.publish(topic=\"bot/arm/move/theta\", payload=payload, qos=1)\n",
    "print(\"MSG rc/mess_id : {}/{}\".format(msg.rc, msg.mid))"
   ]
  },
  {
   "cell_type": "markdown",
   "metadata": {},
   "source": [
    "## TESTED ASYNC OK - Close Gripper"
   ]
  },
  {
   "cell_type": "code",
   "execution_count": 2,
   "metadata": {},
   "outputs": [
    {
     "output_type": "stream",
     "name": "stdout",
     "text": "MSG rc/mess_id : 0/1\n"
    }
   ],
   "source": [
    "payload = json.dumps({})\n",
    "msg = client.publish(topic=\"bot/gripper/close\", payload=payload, qos=1)\n",
    "print(\"MSG rc/mess_id : {}/{}\".format(msg.rc, msg.mid))"
   ]
  },
  {
   "cell_type": "markdown",
   "metadata": {},
   "source": [
    "## TESTED ASYNC OK - Open Gripper "
   ]
  },
  {
   "cell_type": "code",
   "execution_count": 3,
   "metadata": {},
   "outputs": [
    {
     "output_type": "stream",
     "name": "stdout",
     "text": "MSG published : 0/2\n"
    }
   ],
   "source": [
    "payload = json.dumps({})\n",
    "msg = client.publish(topic=\"bot/gripper/open\", payload=payload, qos=1)\n",
    "print(\"MSG published : {}/{}\".format(msg.rc, msg.mid))"
   ]
  },
  {
   "cell_type": "markdown",
   "metadata": {},
   "source": [
    "# TESTED ASYNC OK - Go Home"
   ]
  },
  {
   "cell_type": "code",
   "execution_count": 103,
   "metadata": {},
   "outputs": [
    {
     "name": "stdout",
     "output_type": "stream",
     "text": [
      "MSG published : True\n"
     ]
    }
   ],
   "source": [
    "phipayload = {}\n",
    "phipayload[\"control_method\"] = 'velocity'\n",
    "phipayload[\"velocity_factor\"] = 0.1\n",
    "phipayload[\"dryrun\"] = False\n",
    "# phipayload[\"override\"] = True\n",
    "payload = json.dumps(phipayload)\n",
    "msg = client.publish(topic=\"bot/base/move/home\", payload=payload, qos=0)\n",
    "print(\"MSG published : {}\".format(msg.is_published()))"
   ]
  },
  {
   "cell_type": "markdown",
   "metadata": {},
   "source": [
    "## TESTED ASYNC OK - Turn Phi"
   ]
  },
  {
   "cell_type": "code",
   "execution_count": 147,
   "metadata": {},
   "outputs": [
    {
     "name": "stdout",
     "output_type": "stream",
     "text": [
      "MSG published : True\n"
     ]
    }
   ],
   "source": [
    "phipayload = {}\n",
    "phipayload[\"phi\"] = -90 * (2 * pi / 360)\n",
    "phipayload[\"pid\"] = True\n",
    "phipayload[\"velocity_factor\"] = 0.15\n",
    "phipayload[\"dryrun\"] = False\n",
    "# phipayload[\"inter_wheel_distance\"] = 0.246\n",
    "payload = json.dumps(phipayload)\n",
    "msg = client.publish(topic=\"bot/base/turn/phi\", payload=payload, qos=0)\n",
    "print(\"MSG published : {}\".format(msg.is_published()))"
   ]
  },
  {
   "cell_type": "markdown",
   "metadata": {},
   "source": [
    "## TESTED ASYNC OK - Set ARM in resting position (to drive the robot)"
   ]
  },
  {
   "cell_type": "code",
   "execution_count": 10,
   "metadata": {},
   "outputs": [
    {
     "name": "stdout",
     "output_type": "stream",
     "text": [
      "MSG published : True\n"
     ]
    }
   ],
   "source": [
    "jsonpayload = {}\n",
    "jsonpayload[\"dryrun\"] = False\n",
    "jsonpayload[\"velocity_factor\"] = 0.1\n",
    "payload = json.dumps(jsonpayload)\n",
    "msg = client.publish(topic=\"bot/arm/move/rest\", payload=payload, qos=0)\n",
    "print(\"MSG published : {}\".format(msg.is_published()))"
   ]
  },
  {
   "cell_type": "markdown",
   "metadata": {},
   "source": [
    "## TESTED ASYNC OK - Set ARM in theta zero position"
   ]
  },
  {
   "cell_type": "code",
   "execution_count": 47,
   "metadata": {},
   "outputs": [
    {
     "name": "stdout",
     "output_type": "stream",
     "text": [
      "MSG published : True\n"
     ]
    }
   ],
   "source": [
    "jsonpayload = {}\n",
    "jsonpayload[\"dryrun\"] = False\n",
    "jsonpayload[\"velocity_factor\"] = 0.1\n",
    "payload = json.dumps(jsonpayload)\n",
    "msg = client.publish(topic=\"bot/arm/move/zero\", payload=payload, qos=0)\n",
    "print(\"MSG published : {}\".format(msg.is_published()))"
   ]
  },
  {
   "cell_type": "markdown",
   "metadata": {},
   "source": [
    "## TESTED ASYNC OK - MOVE XYPHI"
   ]
  },
  {
   "cell_type": "code",
   "execution_count": 9,
   "metadata": {},
   "outputs": [
    {
     "name": "stdout",
     "output_type": "stream",
     "text": [
      "MSG rc/mess_id : 0/4\n"
     ]
    }
   ],
   "source": [
    "jsonpayload = {}\n",
    "jsonpayload[\"x\"] = 0.1\n",
    "jsonpayload[\"y\"] = 0 # -0.25\n",
    "jsonpayload[\"phi\"] = 0 * (2 * pi / 360)\n",
    "jsonpayload[\"pid\"] = True\n",
    "jsonpayload[\"velocity_factor\"] = 0.075\n",
    "jsonpayload[\"dryrun\"] = False\n",
    "payload = json.dumps(jsonpayload)\n",
    "msg = client.publish(topic=\"bot/base/move/xyphi\", payload=payload, qos=0)\n",
    "print(\"MSG rc/mess_id : {}/{}\".format(msg.rc, msg.mid))\n",
    "# print(\"MSG published : {}\".format(msg.is_published()))"
   ]
  },
  {
   "cell_type": "markdown",
   "metadata": {},
   "source": [
    "## TESTED ASYNC OK - MOVE X"
   ]
  },
  {
   "cell_type": "code",
   "execution_count": 160,
   "metadata": {},
   "outputs": [
    {
     "name": "stdout",
     "output_type": "stream",
     "text": [
      "MSG published : True\n"
     ]
    }
   ],
   "source": [
    "moveforwardpayload = {}\n",
    "moveforwardpayload[\"distance\"] = -0.10\n",
    "moveforwardpayload[\"pid\"] = True  # True   # False\n",
    "moveforwardpayload[\"velocity_factor\"] = 0.075\n",
    "moveforwardpayload[\"dryrun\"] = False\n",
    "moveforwardpayload[\"wheel_radius\"] = 0.0341\n",
    "payload = json.dumps(moveforwardpayload)\n",
    "msg = client.publish(topic=\"bot/base/move/x\", payload=payload, qos=0)\n",
    "print(\"MSG published : {}\".format(msg.is_published()))"
   ]
  },
  {
   "cell_type": "markdown",
   "metadata": {},
   "source": [
    "## TESTED ASYNC OK - RESET COORDINATES"
   ]
  },
  {
   "cell_type": "code",
   "execution_count": 173,
   "metadata": {},
   "outputs": [
    {
     "name": "stdout",
     "output_type": "stream",
     "text": [
      "MSG published : True\n"
     ]
    }
   ],
   "source": [
    "resetpayload = {}\n",
    "resetpayload[\"now\"] = 0\n",
    "payload = json.dumps(resetpayload)\n",
    "msg = client.publish(topic='bot/base/reset/position', payload=payload, qos = 0)\n",
    "print(\"MSG published : {}\".format(msg.is_published()))"
   ]
  },
  {
   "cell_type": "markdown",
   "metadata": {},
   "source": [
    "## TESTED ASYNC OK - KILL SWITCH!"
   ]
  },
  {
   "cell_type": "code",
   "execution_count": 23,
   "metadata": {},
   "outputs": [
    {
     "name": "stdout",
     "output_type": "stream",
     "text": [
      "MSG published : True\n"
     ]
    }
   ],
   "source": [
    "killswitchpayload = {}\n",
    "payload = json.dumps(killswitchpayload)\n",
    "msg = client.publish(topic='bot/killSwitch', payload=payload, qos = 0)\n",
    "print(\"MSG published : {}\".format(msg.is_published()))"
   ]
  }
 ],
 "metadata": {
  "kernelspec": {
   "display_name": "Python 3",
   "language": "python",
   "name": "python3"
  },
  "language_info": {
   "codemirror_mode": {
    "name": "ipython",
    "version": 3
   },
   "file_extension": ".py",
   "mimetype": "text/x-python",
   "name": "python",
   "nbconvert_exporter": "python",
   "pygments_lexer": "ipython3",
   "version": "3.7.5-final"
  }
 },
 "nbformat": 4,
 "nbformat_minor": 4
}
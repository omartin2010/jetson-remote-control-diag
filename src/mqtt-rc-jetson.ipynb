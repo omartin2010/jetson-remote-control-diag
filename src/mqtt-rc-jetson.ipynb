{
 "cells": [
  {
   "cell_type": "markdown",
   "metadata": {},
   "source": [
    "# Remote controling the Bot via MQTT in a notebook"
   ]
  },
  {
   "cell_type": "markdown",
   "metadata": {},
   "source": [
    "First imports to drive the bot. Don't forget to run the notebook from where a virtual environment with the mqtt client is installed."
   ]
  },
  {
   "cell_type": "markdown",
   "metadata": {},
   "source": [
    "## MQTT INIT"
   ]
  },
  {
   "cell_type": "code",
   "execution_count": 2,
   "metadata": {},
   "outputs": [
    {
     "output_type": "execute_result",
     "data": {
      "text/plain": "0"
     },
     "metadata": {},
     "execution_count": 2
    }
   ],
   "source": [
    "import paho.mqtt.client as mqtt\n",
    "import time\n",
    "import json\n",
    "import numpy\n",
    "from numpy import pi\n",
    "client = mqtt.Client(client_id=\"commander\", clean_session=True)   # , transport='websockets')\n",
    "client.connect(\"192.168.32.50\", 1883, keepalive=60)"
   ]
  },
  {
   "cell_type": "markdown",
   "metadata": {},
   "source": [
    "## JETSON"
   ]
  },
  {
   "cell_type": "markdown",
   "metadata": {},
   "source": [
    "## Setting Logging Levels"
   ]
  },
  {
   "cell_type": "code",
   "execution_count": 9,
   "metadata": {},
   "outputs": [],
   "source": [
    "client = mqtt.Client(client_id=\"commander\", clean_session=True)   # , transport='websockets')\n",
    "client.connect(\"192.168.32.50\", 1883, keepalive=60)\n",
    "level = 10\n",
    "payload_dict = {\n",
    "    'async_record_video': level,\n",
    "#     'obj_detector_run_detection' : level,\n",
    "#     'async_run_capture_loop': level\n",
    "}\n",
    "payload = json.dumps(payload_dict)\n",
    "msg = client.publish(topic='bot/jetson/logger/multiple', payload=payload, qos=1)"
   ]
  },
  {
   "cell_type": "markdown",
   "metadata": {},
   "source": [
    "#### Configuration Object Settings"
   ]
  },
  {
   "cell_type": "code",
   "execution_count": 3,
   "metadata": {},
   "outputs": [
    {
     "output_type": "stream",
     "name": "stdout",
     "text": "MSG rc/mess_id : 0/1\n"
    }
   ],
   "source": [
    "client = mqtt.Client(client_id=\"commander\", clean_session=True)   # , transport='websockets')\n",
    "client.connect(\"192.168.32.50\", 1883, keepalive=60)\n",
    "payload = {'show_video': False,\n",
    "           'max_unseen_time_for_object': 2,\n",
    "           'time_between_scoring_service_calls': 1,\n",
    "           'detection_threshold': 0.6,\n",
    "           'max_tracked_objects': 2}\n",
    "payload = json.dumps(payload)\n",
    "msg = client.publish(topic=\"bot/jetson/configure\", payload=payload, qos=1)\n",
    "print(\"MSG rc/mess_id : {}/{}\".format(msg.rc, msg.mid))"
   ]
  },
  {
   "cell_type": "markdown",
   "metadata": {},
   "source": [
    "#### Streaming Video"
   ]
  },
  {
   "cell_type": "code",
   "execution_count": 15,
   "metadata": {},
   "outputs": [
    {
     "name": "stdout",
     "output_type": "stream",
     "text": [
      "MSG rc/mess_id : 0/1\n"
     ]
    }
   ],
   "source": [
    "client = mqtt.Client(client_id=\"commander\", clean_session=True)\n",
    "client.connect(\"192.168.32.50\", 1883, keepalive=60)\n",
    "payload = {'target_ip': \"192.168.32.55\",\n",
    "           'target_port': 5555}\n",
    "payload = json.dumps(payload)\n",
    "msg = client.publish(topic=\"bot/jetson/video_streaming/start\", payload=payload, qos=1)\n",
    "print(\"MSG rc/mess_id : {}/{}\".format(msg.rc, msg.mid))"
   ]
  },
  {
   "cell_type": "code",
   "execution_count": 17,
   "metadata": {},
   "outputs": [],
   "source": [
    "msg = client.publish(topic=\"bot/jetson/video_streaming/stop\", payload=json.dumps({}), qos=1)"
   ]
  },
  {
   "cell_type": "markdown",
   "metadata": {},
   "source": [
    "#### Record Video"
   ]
  },
  {
   "cell_type": "code",
   "execution_count": 2,
   "metadata": {},
   "outputs": [
    {
     "name": "stdout",
     "output_type": "stream",
     "text": [
      "MSG rc/mess_id : 0/1\n"
     ]
    }
   ],
   "source": [
    "client = mqtt.Client(client_id=\"commander\", clean_session=True)   # , transport='websockets')\n",
    "client.connect(\"192.168.32.50\", 1883, keepalive=60)\n",
    "payload = {'duration': 2}\n",
    "payload = json.dumps(payload)\n",
    "msg = client.publish(topic=\"bot/jetson/start_video\", payload=payload, qos=1)\n",
    "print(\"MSG rc/mess_id : {}/{}\".format(msg.rc, msg.mid))"
   ]
  },
  {
   "cell_type": "code",
   "execution_count": 5,
   "metadata": {},
   "outputs": [
    {
     "name": "stdout",
     "output_type": "stream",
     "text": [
      "MSG rc/mess_id : 0/1\n"
     ]
    }
   ],
   "source": [
    "client = mqtt.Client(client_id=\"commander\", clean_session=True)   # , transport='websockets')\n",
    "client.connect(\"192.168.32.50\", 1883, keepalive=60)\n",
    "payload = {'include_visualisation_data':True}\n",
    "payload = json.dumps(payload)\n",
    "msg = client.publish(topic=\"bot/jetson/snap_picture\", payload=payload, qos=1)\n",
    "print(\"MSG rc/mess_id : {}/{}\".format(msg.rc, msg.mid))"
   ]
  },
  {
   "cell_type": "markdown",
   "metadata": {},
   "source": [
    "## TESTED ASYNC OK - KILL SWITCH!"
   ]
  },
  {
   "cell_type": "code",
   "execution_count": 23,
   "metadata": {},
   "outputs": [
    {
     "name": "stdout",
     "output_type": "stream",
     "text": [
      "MSG published : True\n"
     ]
    }
   ],
   "source": [
    "killswitchpayload = {}\n",
    "payload = json.dumps(killswitchpayload)\n",
    "msg = client.publish(topic='bot/killSwitch', payload=payload, qos = 0)\n",
    "print(\"MSG published : {}\".format(msg.is_published()))"
   ]
  }
 ],
 "metadata": {
  "kernelspec": {
   "display_name": "Python 3",
   "language": "python",
   "name": "python3"
  },
  "language_info": {
   "codemirror_mode": {
    "name": "ipython",
    "version": 3
   },
   "file_extension": ".py",
   "mimetype": "text/x-python",
   "name": "python",
   "nbconvert_exporter": "python",
   "pygments_lexer": "ipython3",
   "version": "3.7.5-final"
  }
 },
 "nbformat": 4,
 "nbformat_minor": 4
}